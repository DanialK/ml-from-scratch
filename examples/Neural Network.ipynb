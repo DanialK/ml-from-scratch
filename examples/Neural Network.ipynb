{
 "cells": [
  {
   "cell_type": "code",
   "execution_count": 1,
   "id": "3af86c68-97a9-44fb-b69d-b378f03a27c1",
   "metadata": {},
   "outputs": [],
   "source": [
    "import os\n",
    "import sys\n",
    "module_path = os.path.abspath(os.path.join('../src'))\n",
    "if module_path not in sys.path:\n",
    "    sys.path.append(module_path)\n",
    "%load_ext autoreload\n",
    "%autoreload 2"
   ]
  },
  {
   "cell_type": "code",
   "execution_count": 2,
   "id": "6679e521-a8eb-4eee-8c60-d717a164b7b0",
   "metadata": {},
   "outputs": [],
   "source": [
    "import numpy as np\n",
    "from sklearn.datasets import load_breast_cancer\n",
    "from sklearn.model_selection import train_test_split"
   ]
  },
  {
   "cell_type": "code",
   "execution_count": 3,
   "id": "6e2c0883-b558-4e8a-8f95-ba603de851cb",
   "metadata": {},
   "outputs": [],
   "source": [
    "X, y = load_breast_cancer(return_X_y=True)"
   ]
  },
  {
   "cell_type": "code",
   "execution_count": 4,
   "id": "57eca2e0-d2d4-4f07-a807-cb71efce88fc",
   "metadata": {},
   "outputs": [],
   "source": [
    "X_train, X_test, y_train, y_test = train_test_split(X, y, train_size=0.7, random_state=2021)"
   ]
  },
  {
   "cell_type": "code",
   "execution_count": 5,
   "id": "531c7abd-4118-4da9-8426-d45e2c9e8e97",
   "metadata": {},
   "outputs": [],
   "source": [
    "img_mean = X_train.mean(axis=0)\n",
    "img_std = X_train.std(axis=0)\n",
    "\n",
    "X_train = (X_train-img_mean) / img_std\n",
    "X_test = (X_test-img_mean) / img_std"
   ]
  },
  {
   "cell_type": "code",
   "execution_count": 6,
   "id": "c8b52564-a763-48d4-af7a-a56aa895471d",
   "metadata": {},
   "outputs": [],
   "source": [
    "from nn import Model\n",
    "from nn.optimizers import SGD\n",
    "from nn.losses import BinaryCrossEntropy\n",
    "from nn.activations import ReLU, Sigmoid\n",
    "from nn.layers import Dense, Activation, Dropout\n",
    "from metrics import accuracy"
   ]
  },
  {
   "cell_type": "code",
   "execution_count": 51,
   "id": "e025db02-f4b6-46a5-aac8-ae9baa07348b",
   "metadata": {},
   "outputs": [],
   "source": [
    "model = Model(SGD(), BinaryCrossEntropy())"
   ]
  },
  {
   "cell_type": "code",
   "execution_count": 52,
   "id": "a6b3d2ee-64c5-43c1-823f-2d0365b86e8c",
   "metadata": {},
   "outputs": [],
   "source": [
    "model.add(Dense(100, input_shape=(X_train.shape[1],)))\n",
    "model.add(Activation('relu'))\n",
    "model.add(Dropout(0.5))\n",
    "model.add(Dense(50))\n",
    "model.add(Activation('relu'))\n",
    "model.add(Dropout(0.1))\n",
    "model.add(Dense(1))\n",
    "model.add(Activation('sigmoid'))"
   ]
  },
  {
   "cell_type": "code",
   "execution_count": 53,
   "id": "cb8036b8-f416-49c4-b007-9c54be1ce73c",
   "metadata": {},
   "outputs": [],
   "source": [
    "model.fit(X_train, y_train, 1000, 64)"
   ]
  },
  {
   "cell_type": "code",
   "execution_count": 54,
   "id": "59670e87-c7b2-4c78-9697-dbdaae5458a2",
   "metadata": {},
   "outputs": [],
   "source": [
    "y_pred = model.predict(X_test)"
   ]
  },
  {
   "cell_type": "code",
   "execution_count": 57,
   "id": "14257b4a-80b4-4fe0-9952-7c2e6fd7efdd",
   "metadata": {},
   "outputs": [
    {
     "data": {
      "text/plain": [
       "0.9649122807017544"
      ]
     },
     "execution_count": 57,
     "metadata": {},
     "output_type": "execute_result"
    }
   ],
   "source": [
    "accuracy((y_pred > 0.5), y_test)"
   ]
  },
  {
   "cell_type": "code",
   "execution_count": null,
   "id": "a75323b0-5fef-4bd5-a3d8-9228ac44020d",
   "metadata": {},
   "outputs": [],
   "source": []
  }
 ],
 "metadata": {
  "kernelspec": {
   "display_name": "local-venv",
   "language": "python",
   "name": "local-venv"
  },
  "language_info": {
   "codemirror_mode": {
    "name": "ipython",
    "version": 3
   },
   "file_extension": ".py",
   "mimetype": "text/x-python",
   "name": "python",
   "nbconvert_exporter": "python",
   "pygments_lexer": "ipython3",
   "version": "3.9.5"
  }
 },
 "nbformat": 4,
 "nbformat_minor": 5
}
