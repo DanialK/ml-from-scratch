{
 "cells": [
  {
   "cell_type": "code",
   "execution_count": 98,
   "id": "26c4798a-0366-4b77-9c3a-0c22baec4cc2",
   "metadata": {},
   "outputs": [
    {
     "name": "stdout",
     "output_type": "stream",
     "text": [
      "The autoreload extension is already loaded. To reload it, use:\n",
      "  %reload_ext autoreload\n"
     ]
    }
   ],
   "source": [
    "import os\n",
    "import sys\n",
    "module_path = os.path.abspath(os.path.join('../src'))\n",
    "if module_path not in sys.path:\n",
    "    sys.path.append(module_path)\n",
    "%load_ext autoreload\n",
    "%autoreload 2"
   ]
  },
  {
   "cell_type": "code",
   "execution_count": 99,
   "id": "4bcfd5db-b95c-4879-a5a1-8e565d2dd851",
   "metadata": {},
   "outputs": [],
   "source": [
    "import numpy as np\n",
    "from matplotlib import pyplot as plt\n",
    "from sklearn.datasets import fetch_openml\n",
    "from unsupervised_learning.PCA import PCA, PCAv2\n",
    "%matplotlib inline"
   ]
  },
  {
   "cell_type": "code",
   "execution_count": null,
   "id": "4d309b43-a5ee-455c-af28-d48f4dd11cb0",
   "metadata": {},
   "outputs": [],
   "source": [
    "mnist = fetch_openml('mnist_784', version=1, cache=True)\n",
    "X = mnist.data.values\n",
    "y = mnist.target"
   ]
  },
  {
   "cell_type": "code",
   "execution_count": 101,
   "id": "39de40be-8180-49c6-affc-a9c4a1756b1b",
   "metadata": {},
   "outputs": [],
   "source": [
    "pca = PCAv2(n_components=10)\n",
    "X_transformed = pca.fit_transform(X)"
   ]
  },
  {
   "cell_type": "code",
   "execution_count": null,
   "id": "5fa3a918-1c21-4649-b26c-f29c2d6fc743",
   "metadata": {},
   "outputs": [],
   "source": [
    "from sklearn.decomposition import PCA"
   ]
  },
  {
   "cell_type": "code",
   "execution_count": null,
   "id": "0bb50fa0-226a-4264-9c4b-d22e8752be5a",
   "metadata": {},
   "outputs": [],
   "source": [
    "pca = PCA(n_components=10)\n",
    "sk_X_transformed = pca.fit_transform(X)"
   ]
  },
  {
   "cell_type": "code",
   "execution_count": null,
   "id": "0dd5b9c9-adcc-45c4-a27c-15f48e447a51",
   "metadata": {},
   "outputs": [],
   "source": [
    "sk_X_transformed.mean()"
   ]
  },
  {
   "cell_type": "code",
   "execution_count": 79,
   "id": "312224ea-b1fa-4776-99d2-e50f6b11b70f",
   "metadata": {},
   "outputs": [
    {
     "ename": "AssertionError",
     "evalue": "\nArrays are not almost equal to 6 decimals\n\nMismatched elements: 697478 / 700000 (99.6%)\nMax absolute difference: 3169.09969425\nMax relative difference: 469.96982538\n x: array([[ 122.255237, -316.23306 ,  -51.133472, ...,  188.283201,\n        -359.459106,  199.0668  ],\n       [1010.493997, -289.963293,  576.118562, ..., -102.340289,...\n y: array([[ 122.255255,  316.233844,  -51.131831, ...,  188.824032,\n         358.798925, -203.545001],\n       [1010.494003,  289.963621,  576.120745, ..., -102.231088,...",
     "output_type": "error",
     "traceback": [
      "\u001b[0;31m---------------------------------------------------------------------------\u001b[0m",
      "\u001b[0;31mAssertionError\u001b[0m                            Traceback (most recent call last)",
      "\u001b[0;32m/var/folders/3m/bp3zs19s2dl20w9bldys4vfhfjfrgz/T/ipykernel_39863/1945648793.py\u001b[0m in \u001b[0;36m<module>\u001b[0;34m\u001b[0m\n\u001b[0;32m----> 1\u001b[0;31m \u001b[0mnp\u001b[0m\u001b[0;34m.\u001b[0m\u001b[0mtesting\u001b[0m\u001b[0;34m.\u001b[0m\u001b[0massert_array_almost_equal\u001b[0m\u001b[0;34m(\u001b[0m\u001b[0msk_X_transformed\u001b[0m\u001b[0;34m,\u001b[0m \u001b[0mX_transformed\u001b[0m\u001b[0;34m)\u001b[0m\u001b[0;34m\u001b[0m\u001b[0;34m\u001b[0m\u001b[0m\n\u001b[0m",
      "    \u001b[0;31m[... skipping hidden 1 frame]\u001b[0m\n",
      "\u001b[0;32m~/dev/ml-from-scratch/venv/lib/python3.9/site-packages/numpy/testing/_private/utils.py\u001b[0m in \u001b[0;36massert_array_compare\u001b[0;34m(comparison, x, y, err_msg, verbose, header, precision, equal_nan, equal_inf)\u001b[0m\n\u001b[1;32m    842\u001b[0m                                 \u001b[0mverbose\u001b[0m\u001b[0;34m=\u001b[0m\u001b[0mverbose\u001b[0m\u001b[0;34m,\u001b[0m \u001b[0mheader\u001b[0m\u001b[0;34m=\u001b[0m\u001b[0mheader\u001b[0m\u001b[0;34m,\u001b[0m\u001b[0;34m\u001b[0m\u001b[0;34m\u001b[0m\u001b[0m\n\u001b[1;32m    843\u001b[0m                                 names=('x', 'y'), precision=precision)\n\u001b[0;32m--> 844\u001b[0;31m             \u001b[0;32mraise\u001b[0m \u001b[0mAssertionError\u001b[0m\u001b[0;34m(\u001b[0m\u001b[0mmsg\u001b[0m\u001b[0;34m)\u001b[0m\u001b[0;34m\u001b[0m\u001b[0;34m\u001b[0m\u001b[0m\n\u001b[0m\u001b[1;32m    845\u001b[0m     \u001b[0;32mexcept\u001b[0m \u001b[0mValueError\u001b[0m\u001b[0;34m:\u001b[0m\u001b[0;34m\u001b[0m\u001b[0;34m\u001b[0m\u001b[0m\n\u001b[1;32m    846\u001b[0m         \u001b[0;32mimport\u001b[0m \u001b[0mtraceback\u001b[0m\u001b[0;34m\u001b[0m\u001b[0;34m\u001b[0m\u001b[0m\n",
      "\u001b[0;31mAssertionError\u001b[0m: \nArrays are not almost equal to 6 decimals\n\nMismatched elements: 697478 / 700000 (99.6%)\nMax absolute difference: 3169.09969425\nMax relative difference: 469.96982538\n x: array([[ 122.255237, -316.23306 ,  -51.133472, ...,  188.283201,\n        -359.459106,  199.0668  ],\n       [1010.493997, -289.963293,  576.118562, ..., -102.340289,...\n y: array([[ 122.255255,  316.233844,  -51.131831, ...,  188.824032,\n         358.798925, -203.545001],\n       [1010.494003,  289.963621,  576.120745, ..., -102.231088,..."
     ]
    }
   ],
   "source": [
    "np.testing.assert_array_almost_equal(sk_X_transformed, X_transformed)"
   ]
  }
 ],
 "metadata": {
  "kernelspec": {
   "display_name": "local-venv",
   "language": "python",
   "name": "local-venv"
  },
  "language_info": {
   "codemirror_mode": {
    "name": "ipython",
    "version": 3
   },
   "file_extension": ".py",
   "mimetype": "text/x-python",
   "name": "python",
   "nbconvert_exporter": "python",
   "pygments_lexer": "ipython3",
   "version": "3.9.5"
  }
 },
 "nbformat": 4,
 "nbformat_minor": 5
}
