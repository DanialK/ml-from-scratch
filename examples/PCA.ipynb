{
 "cells": [
  {
   "cell_type": "code",
   "execution_count": 1,
   "id": "26c4798a-0366-4b77-9c3a-0c22baec4cc2",
   "metadata": {},
   "outputs": [],
   "source": [
    "import os\n",
    "import sys\n",
    "module_path = os.path.abspath(os.path.join('../src'))\n",
    "if module_path not in sys.path:\n",
    "    sys.path.append(module_path)\n",
    "%load_ext autoreload\n",
    "%autoreload 2"
   ]
  },
  {
   "cell_type": "code",
   "execution_count": 74,
   "id": "4bcfd5db-b95c-4879-a5a1-8e565d2dd851",
   "metadata": {},
   "outputs": [],
   "source": [
    "import numpy as np\n",
    "from matplotlib import pyplot as plt\n",
    "from sklearn.datasets import fetch_openml\n",
    "from unsupervised_learning.PCA import PCA, PCAv2\n",
    "%matplotlib inline"
   ]
  },
  {
   "cell_type": "code",
   "execution_count": 3,
   "id": "4d309b43-a5ee-455c-af28-d48f4dd11cb0",
   "metadata": {},
   "outputs": [],
   "source": [
    "mnist = fetch_openml('mnist_784', version=1, cache=True)\n",
    "X = mnist.data.values\n",
    "y = mnist.target"
   ]
  },
  {
   "cell_type": "code",
   "execution_count": 75,
   "id": "39de40be-8180-49c6-affc-a9c4a1756b1b",
   "metadata": {},
   "outputs": [],
   "source": [
    "pca = PCAv2(n_components=10)\n",
    "X_transformed = pca.fit_transform(X)"
   ]
  },
  {
   "cell_type": "code",
   "execution_count": 76,
   "id": "5fa3a918-1c21-4649-b26c-f29c2d6fc743",
   "metadata": {},
   "outputs": [],
   "source": [
    "from sklearn.decomposition import PCA"
   ]
  },
  {
   "cell_type": "code",
   "execution_count": 77,
   "id": "0bb50fa0-226a-4264-9c4b-d22e8752be5a",
   "metadata": {},
   "outputs": [],
   "source": [
    "pca = PCA(n_components=10)\n",
    "sk_X_transformed = pca.fit_transform(X)"
   ]
  },
  {
   "cell_type": "code",
   "execution_count": 78,
   "id": "0dd5b9c9-adcc-45c4-a27c-15f48e447a51",
   "metadata": {},
   "outputs": [
    {
     "data": {
      "text/plain": [
       "1.9738633584763322e-14"
      ]
     },
     "execution_count": 78,
     "metadata": {},
     "output_type": "execute_result"
    }
   ],
   "source": [
    "sk_X_transformed.mean()"
   ]
  },
  {
   "cell_type": "code",
   "execution_count": 79,
   "id": "312224ea-b1fa-4776-99d2-e50f6b11b70f",
   "metadata": {},
   "outputs": [
    {
     "ename": "AssertionError",
     "evalue": "\nArrays are not almost equal to 6 decimals\n\nMismatched elements: 697478 / 700000 (99.6%)\nMax absolute difference: 3169.09969425\nMax relative difference: 469.96982538\n x: array([[ 122.255237, -316.23306 ,  -51.133472, ...,  188.283201,\n        -359.459106,  199.0668  ],\n       [1010.493997, -289.963293,  576.118562, ..., -102.340289,...\n y: array([[ 122.255255,  316.233844,  -51.131831, ...,  188.824032,\n         358.798925, -203.545001],\n       [1010.494003,  289.963621,  576.120745, ..., -102.231088,...",
     "output_type": "error",
     "traceback": [
      "\u001b[0;31m---------------------------------------------------------------------------\u001b[0m",
      "\u001b[0;31mAssertionError\u001b[0m                            Traceback (most recent call last)",
      "\u001b[0;32m/var/folders/3m/bp3zs19s2dl20w9bldys4vfhfjfrgz/T/ipykernel_39863/1945648793.py\u001b[0m in \u001b[0;36m<module>\u001b[0;34m\u001b[0m\n\u001b[0;32m----> 1\u001b[0;31m \u001b[0mnp\u001b[0m\u001b[0;34m.\u001b[0m\u001b[0mtesting\u001b[0m\u001b[0;34m.\u001b[0m\u001b[0massert_array_almost_equal\u001b[0m\u001b[0;34m(\u001b[0m\u001b[0msk_X_transformed\u001b[0m\u001b[0;34m,\u001b[0m \u001b[0mX_transformed\u001b[0m\u001b[0;34m)\u001b[0m\u001b[0;34m\u001b[0m\u001b[0;34m\u001b[0m\u001b[0m\n\u001b[0m",
      "    \u001b[0;31m[... skipping hidden 1 frame]\u001b[0m\n",
      "\u001b[0;32m~/dev/ml-from-scratch/venv/lib/python3.9/site-packages/numpy/testing/_private/utils.py\u001b[0m in \u001b[0;36massert_array_compare\u001b[0;34m(comparison, x, y, err_msg, verbose, header, precision, equal_nan, equal_inf)\u001b[0m\n\u001b[1;32m    842\u001b[0m                                 \u001b[0mverbose\u001b[0m\u001b[0;34m=\u001b[0m\u001b[0mverbose\u001b[0m\u001b[0;34m,\u001b[0m \u001b[0mheader\u001b[0m\u001b[0;34m=\u001b[0m\u001b[0mheader\u001b[0m\u001b[0;34m,\u001b[0m\u001b[0;34m\u001b[0m\u001b[0;34m\u001b[0m\u001b[0m\n\u001b[1;32m    843\u001b[0m                                 names=('x', 'y'), precision=precision)\n\u001b[0;32m--> 844\u001b[0;31m             \u001b[0;32mraise\u001b[0m \u001b[0mAssertionError\u001b[0m\u001b[0;34m(\u001b[0m\u001b[0mmsg\u001b[0m\u001b[0;34m)\u001b[0m\u001b[0;34m\u001b[0m\u001b[0;34m\u001b[0m\u001b[0m\n\u001b[0m\u001b[1;32m    845\u001b[0m     \u001b[0;32mexcept\u001b[0m \u001b[0mValueError\u001b[0m\u001b[0;34m:\u001b[0m\u001b[0;34m\u001b[0m\u001b[0;34m\u001b[0m\u001b[0m\n\u001b[1;32m    846\u001b[0m         \u001b[0;32mimport\u001b[0m \u001b[0mtraceback\u001b[0m\u001b[0;34m\u001b[0m\u001b[0;34m\u001b[0m\u001b[0m\n",
      "\u001b[0;31mAssertionError\u001b[0m: \nArrays are not almost equal to 6 decimals\n\nMismatched elements: 697478 / 700000 (99.6%)\nMax absolute difference: 3169.09969425\nMax relative difference: 469.96982538\n x: array([[ 122.255237, -316.23306 ,  -51.133472, ...,  188.283201,\n        -359.459106,  199.0668  ],\n       [1010.493997, -289.963293,  576.118562, ..., -102.340289,...\n y: array([[ 122.255255,  316.233844,  -51.131831, ...,  188.824032,\n         358.798925, -203.545001],\n       [1010.494003,  289.963621,  576.120745, ..., -102.231088,..."
     ]
    }
   ],
   "source": [
    "np.testing.assert_array_almost_equal(sk_X_transformed, X_transformed)"
   ]
  },
  {
   "cell_type": "code",
   "execution_count": 60,
   "id": "205992d6-e542-4fae-8522-177405a86f3c",
   "metadata": {},
   "outputs": [],
   "source": [
    "n_samples = X.shape[0]\n",
    "X_mean = np.mean(X, axis=0)\n",
    "X_centered = X - X_mean\n",
    "\n",
    "C = X_centered.T @ X_centered / (n_samples - 1)\n",
    "\n",
    "U, S, V = np.linalg.svd(C)"
   ]
  },
  {
   "cell_type": "code",
   "execution_count": 62,
   "id": "752b16cb-96d5-4025-bd23-a54b5482a9b5",
   "metadata": {},
   "outputs": [
    {
     "data": {
      "text/plain": [
       "(784,)"
      ]
     },
     "execution_count": 62,
     "metadata": {},
     "output_type": "execute_result"
    }
   ],
   "source": [
    "S.shape"
   ]
  },
  {
   "cell_type": "code",
   "execution_count": 73,
   "id": "551d6049-9a2f-4307-beef-9aee997d97a0",
   "metadata": {},
   "outputs": [
    {
     "data": {
      "text/plain": [
       "array([[ 884.97728329,  333.67542834,  130.21914929, ...,  116.16265933,\n",
       "         -55.74781525, -288.50903663],\n",
       "       [1773.21603143,  307.40520502,  757.47172536, ..., -174.89246017,\n",
       "        -449.33295112, -236.22907289],\n",
       "       [ 703.72608077, -376.25586056,   19.35279606, ...,  301.62801816,\n",
       "        -336.04549821,  107.75362285],\n",
       "       ...,\n",
       "       [ 491.21501474, -572.63691566,  522.71984934, ..., -417.396413  ,\n",
       "        -362.35907241,  718.56755547],\n",
       "       [ 452.49720506,  134.16873525,  817.07097709, ...,   72.17512832,\n",
       "        -699.5650984 ,  120.09958819],\n",
       "       [1821.58415371,  100.83412286,  912.69316412, ..., -494.07549377,\n",
       "        -555.80921034, -152.160076  ]])"
      ]
     },
     "execution_count": 73,
     "metadata": {},
     "output_type": "execute_result"
    }
   ],
   "source": [
    "X @ V[:10].T"
   ]
  },
  {
   "cell_type": "code",
   "execution_count": 83,
   "id": "46f3e38a-c7a7-4981-a0c8-d578a3918aeb",
   "metadata": {},
   "outputs": [],
   "source": [
    "x = X[0]"
   ]
  },
  {
   "cell_type": "code",
   "execution_count": 96,
   "id": "8c445a6d-b5da-441e-b4f7-d454616d7025",
   "metadata": {},
   "outputs": [
    {
     "data": {
      "text/plain": [
       "array([0, 3, 0, 1])"
      ]
     },
     "execution_count": 96,
     "metadata": {},
     "output_type": "execute_result"
    }
   ],
   "source": [
    "np.bincount([1,1,1,3])"
   ]
  },
  {
   "cell_type": "code",
   "execution_count": 97,
   "id": "b3c3e841-80b6-40cf-adfd-f18e7651922c",
   "metadata": {},
   "outputs": [
    {
     "data": {
      "text/plain": [
       "1"
      ]
     },
     "execution_count": 97,
     "metadata": {},
     "output_type": "execute_result"
    }
   ],
   "source": [
    "KNNRegressor"
   ]
  },
  {
   "cell_type": "code",
   "execution_count": null,
   "id": "325f40e8-fdfe-48a8-9634-f8f93e1baca8",
   "metadata": {},
   "outputs": [],
   "source": []
  }
 ],
 "metadata": {
  "kernelspec": {
   "display_name": "local-venv",
   "language": "python",
   "name": "local-venv"
  },
  "language_info": {
   "codemirror_mode": {
    "name": "ipython",
    "version": 3
   },
   "file_extension": ".py",
   "mimetype": "text/x-python",
   "name": "python",
   "nbconvert_exporter": "python",
   "pygments_lexer": "ipython3",
   "version": "3.9.5"
  }
 },
 "nbformat": 4,
 "nbformat_minor": 5
}
