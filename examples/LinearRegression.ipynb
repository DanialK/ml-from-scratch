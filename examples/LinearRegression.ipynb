{
 "cells": [
  {
   "cell_type": "code",
   "execution_count": 129,
   "id": "3af86c68-97a9-44fb-b69d-b378f03a27c1",
   "metadata": {},
   "outputs": [
    {
     "name": "stdout",
     "output_type": "stream",
     "text": [
      "The autoreload extension is already loaded. To reload it, use:\n",
      "  %reload_ext autoreload\n"
     ]
    }
   ],
   "source": [
    "import os\n",
    "import sys\n",
    "module_path = os.path.abspath(os.path.join('../src'))\n",
    "if module_path not in sys.path:\n",
    "    sys.path.append(module_path)\n",
    "%load_ext autoreload\n",
    "%autoreload 2"
   ]
  },
  {
   "cell_type": "code",
   "execution_count": 210,
   "id": "6679e521-a8eb-4eee-8c60-d717a164b7b0",
   "metadata": {},
   "outputs": [],
   "source": [
    "import numpy as np\n",
    "from sklearn.datasets import load_boston\n",
    "from sklearn.model_selection import train_test_split\n",
    "from sklearn.metrics import mean_squared_error\n",
    "from supervised_learning.linear_regression import LinearRegression, LinearRegressionV2"
   ]
  },
  {
   "cell_type": "code",
   "execution_count": 211,
   "id": "6e2c0883-b558-4e8a-8f95-ba603de851cb",
   "metadata": {},
   "outputs": [],
   "source": [
    "X, y = load_boston(return_X_y=True)"
   ]
  },
  {
   "cell_type": "code",
   "execution_count": 212,
   "id": "57eca2e0-d2d4-4f07-a807-cb71efce88fc",
   "metadata": {},
   "outputs": [],
   "source": [
    "X_train, X_test, y_train, y_test = train_test_split(X, y, train_size=0.7, random_state=2021)"
   ]
  },
  {
   "cell_type": "code",
   "execution_count": 213,
   "id": "ef7ffaa2-0c36-45a2-9956-3b52b2a348c2",
   "metadata": {},
   "outputs": [],
   "source": [
    "X_train_mean = X_train.mean(axis=0)\n",
    "X_train_std = X_train.mean(axis=0)\n",
    "X_train_norm = (X_train - X_train_mean) / X_train_std\n",
    "X_test_norm = (X_test - X_train_mean) / X_train_std"
   ]
  },
  {
   "cell_type": "code",
   "execution_count": 217,
   "id": "4428f556-e16f-473e-aa0e-7787096353b0",
   "metadata": {},
   "outputs": [
    {
     "data": {
      "text/plain": [
       "27.43692016371413"
      ]
     },
     "execution_count": 217,
     "metadata": {},
     "output_type": "execute_result"
    }
   ],
   "source": [
    "model1 = LinearRegression(learning_rate=0.001, n_iterations=10000, regularization='l2', C=0.5)\n",
    "model1.fit(X_train_norm, y_train)\n",
    "y_pred1 = model1.predict(X_test_norm)\n",
    "mean_squared_error(y_test, y_pred1)"
   ]
  },
  {
   "cell_type": "code",
   "execution_count": 209,
   "id": "1bba822b-a448-4b79-90dc-c6b813642c77",
   "metadata": {},
   "outputs": [
    {
     "data": {
      "text/plain": [
       "22.957577797379237"
      ]
     },
     "execution_count": 209,
     "metadata": {},
     "output_type": "execute_result"
    }
   ],
   "source": [
    "model2 = LinearRegressionV2(regularization='l2', lambda0=10)\n",
    "model2.fit(X_train, y_train)\n",
    "y_pred2 = model2.predict(X_test)\n",
    "mean_squared_error(y_test, y_pred2)"
   ]
  },
  {
   "cell_type": "code",
   "execution_count": null,
   "id": "9da22121-8161-456e-8e9a-e0b017bc4096",
   "metadata": {},
   "outputs": [],
   "source": []
  },
  {
   "cell_type": "code",
   "execution_count": 218,
   "id": "85da2977-5bcc-4906-b8ce-bead78d1a6b9",
   "metadata": {},
   "outputs": [],
   "source": [
    "from sklearn.linear_model import LinearRegression, Ridge"
   ]
  },
  {
   "cell_type": "code",
   "execution_count": 232,
   "id": "ae33b960-8202-40f6-8aef-4cc76fb0880a",
   "metadata": {},
   "outputs": [
    {
     "data": {
      "text/plain": [
       "21.682011726330096"
      ]
     },
     "execution_count": 232,
     "metadata": {},
     "output_type": "execute_result"
    }
   ],
   "source": [
    "sk_model = LinearRegression()\n",
    "sk_model.fit(X_train, y_train)\n",
    "sk_y_pred = sk_model.predict(X_test)\n",
    "mean_squared_error(y_test, sk_y_pred)"
   ]
  },
  {
   "cell_type": "code",
   "execution_count": 237,
   "id": "77107f71-aaad-4461-8697-f6be35ef3f5b",
   "metadata": {},
   "outputs": [
    {
     "data": {
      "text/plain": [
       "22.535794712935964"
      ]
     },
     "execution_count": 237,
     "metadata": {},
     "output_type": "execute_result"
    }
   ],
   "source": [
    "sk_model = Ridge(alpha=10)\n",
    "sk_model.fit(X_train, y_train)\n",
    "sk_y_pred = sk_model.predict(X_test)\n",
    "mean_squared_error(y_test, sk_y_pred)"
   ]
  },
  {
   "cell_type": "code",
   "execution_count": null,
   "id": "d402e548-c494-4b94-91fa-6af02f00d185",
   "metadata": {},
   "outputs": [],
   "source": []
  }
 ],
 "metadata": {
  "kernelspec": {
   "display_name": "local-venv",
   "language": "python",
   "name": "local-venv"
  },
  "language_info": {
   "codemirror_mode": {
    "name": "ipython",
    "version": 3
   },
   "file_extension": ".py",
   "mimetype": "text/x-python",
   "name": "python",
   "nbconvert_exporter": "python",
   "pygments_lexer": "ipython3",
   "version": "3.9.5"
  }
 },
 "nbformat": 4,
 "nbformat_minor": 5
}
