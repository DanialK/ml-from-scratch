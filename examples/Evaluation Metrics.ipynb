{
 "cells": [
  {
   "cell_type": "code",
   "execution_count": 289,
   "id": "361f8567-bcbf-4198-a211-4f2992026bf5",
   "metadata": {},
   "outputs": [
    {
     "name": "stdout",
     "output_type": "stream",
     "text": [
      "The autoreload extension is already loaded. To reload it, use:\n",
      "  %reload_ext autoreload\n"
     ]
    }
   ],
   "source": [
    "import os\n",
    "import sys\n",
    "module_path = os.path.abspath(os.path.join('../src'))\n",
    "if module_path not in sys.path:\n",
    "    sys.path.append(module_path)\n",
    "%load_ext autoreload\n",
    "%autoreload 2"
   ]
  },
  {
   "cell_type": "code",
   "execution_count": 290,
   "id": "fa92458a-a06a-4a2d-b37c-47d3df5bcae5",
   "metadata": {},
   "outputs": [],
   "source": [
    "import numpy as np\n",
    "from matplotlib import pyplot as plt\n",
    "from sklearn.metrics import RocCurveDisplay\n",
    "from metrics.metrics import roc, auc"
   ]
  },
  {
   "cell_type": "code",
   "execution_count": 301,
   "id": "a2490711-6737-4944-bf5c-4d0d56e3c408",
   "metadata": {},
   "outputs": [],
   "source": [
    "y_true = [0, 0, 0, 0, 1, 0, 1, 0, 0, 1, 0, 1, 0, 0, 1]\n",
    "\n",
    "y_pred = [0.1, 0.3, 0.2, 0.6, 0.8, 0.05, 0.9, 0.5, 0.3, 0.66, 0.3, 0.2, 0.85, 0.15, 0.99]\n",
    "\n",
    "# thresholds = [0, 0.1, 0.2, 0.3, 0.4, 0.5, 0.6, 0.7, 0.8, 0.85, 0.9, 0.99, 1.0]\n",
    "# thresholds = [1.99, 0.99, 0.9 , 0.85, 0.66, 0.5 , 0.3 , 0.2 , 0.05]\n",
    "# thresholds = None"
   ]
  },
  {
   "cell_type": "markdown",
   "id": "72eddfab-8384-4f62-9499-48f6951ec93e",
   "metadata": {},
   "source": [
    "# ROC AUC"
   ]
  },
  {
   "cell_type": "code",
   "execution_count": 302,
   "id": "57d4bdaa-4176-47c2-90ab-36cc9564e020",
   "metadata": {},
   "outputs": [],
   "source": [
    "roc_res = roc(y_true, y_pred, thresholds)"
   ]
  },
  {
   "cell_type": "code",
   "execution_count": 304,
   "id": "e59bec5f-1874-4303-be44-0c9f068eeaa2",
   "metadata": {},
   "outputs": [
    {
     "data": {
      "text/plain": [
       "0.8300000000000001"
      ]
     },
     "execution_count": 304,
     "metadata": {},
     "output_type": "execute_result"
    }
   ],
   "source": [
    "roc_auc = auc(y_true, y_pred, thresholds)\n",
    "roc_auc"
   ]
  },
  {
   "cell_type": "code",
   "execution_count": 305,
   "id": "a9f759ff-5b55-41d1-a001-ba0846b3cb1b",
   "metadata": {},
   "outputs": [],
   "source": [
    "fpr = roc_res[1]\n",
    "tpr = roc_res[2]"
   ]
  },
  {
   "cell_type": "code",
   "execution_count": 306,
   "id": "564811b2-5bb0-472d-9ab2-091ba2ce5f75",
   "metadata": {},
   "outputs": [
    {
     "data": {
      "image/png": "[encoded data removed]",
      "text/plain": [
       "<Figure size 432x288 with 1 Axes>"
      ]
     },
     "metadata": {
      "needs_background": "light"
     },
     "output_type": "display_data"
    }
   ],
   "source": [
    "display = RocCurveDisplay(fpr=fpr, tpr=tpr, roc_auc=roc_auc)\n",
    "display.plot()  \n",
    "plt.show()      "
   ]
  },
  {
   "cell_type": "markdown",
   "id": "927f166e-ee3e-4eaf-8795-2db423407a9e",
   "metadata": {},
   "source": [
    "# Logloss"
   ]
  },
  {
   "cell_type": "code",
   "execution_count": 333,
   "id": "a65a18e0-2f7e-46fd-870b-0b475c9054c1",
   "metadata": {},
   "outputs": [],
   "source": [
    "from metrics.metrics import log_loss"
   ]
  },
  {
   "cell_type": "code",
   "execution_count": 334,
   "id": "dfe44ba7-5db1-4ea7-beeb-872bb116dafc",
   "metadata": {},
   "outputs": [
    {
     "data": {
      "text/plain": [
       "0.49882711861432294"
      ]
     },
     "execution_count": 334,
     "metadata": {},
     "output_type": "execute_result"
    }
   ],
   "source": [
    "log_loss(y_true, y_pred)"
   ]
  },
  {
   "cell_type": "code",
   "execution_count": null,
   "id": "8b2e7860-09e3-47da-86c2-973bfd3bf631",
   "metadata": {},
   "outputs": [],
   "source": []
  }
 ],
 "metadata": {
  "kernelspec": {
   "display_name": "local-venv",
   "language": "python",
   "name": "local-venv"
  },
  "language_info": {
   "codemirror_mode": {
    "name": "ipython",
    "version": 3
   },
   "file_extension": ".py",
   "mimetype": "text/x-python",
   "name": "python",
   "nbconvert_exporter": "python",
   "pygments_lexer": "ipython3",
   "version": "3.9.5"
  }
 },
 "nbformat": 4,
 "nbformat_minor": 5
}
