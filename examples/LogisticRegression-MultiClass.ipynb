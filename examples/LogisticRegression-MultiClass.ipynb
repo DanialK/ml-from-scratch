{
 "cells": [
  {
   "cell_type": "code",
   "execution_count": 77,
   "id": "3af86c68-97a9-44fb-b69d-b378f03a27c1",
   "metadata": {},
   "outputs": [
    {
     "name": "stdout",
     "output_type": "stream",
     "text": [
      "The autoreload extension is already loaded. To reload it, use:\n",
      "  %reload_ext autoreload\n"
     ]
    }
   ],
   "source": [
    "import os\n",
    "import sys\n",
    "module_path = os.path.abspath(os.path.join('../src'))\n",
    "if module_path not in sys.path:\n",
    "    sys.path.append(module_path)\n",
    "%load_ext autoreload\n",
    "%autoreload 2"
   ]
  },
  {
   "cell_type": "code",
   "execution_count": 83,
   "id": "6679e521-a8eb-4eee-8c60-d717a164b7b0",
   "metadata": {},
   "outputs": [],
   "source": [
    "import numpy as np\n",
    "from sklearn.model_selection import train_test_split\n",
    "from sklearn.datasets import load_digits\n",
    "from supervised_learning.logistic_regression import MultinomialLogisticRegression, OneVsRestLogisticRegression\n",
    "from utils import to_categorical"
   ]
  },
  {
   "cell_type": "code",
   "execution_count": 84,
   "id": "6e2c0883-b558-4e8a-8f95-ba603de851cb",
   "metadata": {},
   "outputs": [],
   "source": [
    "X, y = load_digits(return_X_y=True)"
   ]
  },
  {
   "cell_type": "code",
   "execution_count": 85,
   "id": "57eca2e0-d2d4-4f07-a807-cb71efce88fc",
   "metadata": {},
   "outputs": [],
   "source": [
    "X_train, X_test, y_train, y_test = train_test_split(X, y, train_size=0.7, random_state=2021)"
   ]
  },
  {
   "cell_type": "code",
   "execution_count": 86,
   "id": "237d72c4-3015-4d8e-be5d-2e3b22cd2b17",
   "metadata": {},
   "outputs": [],
   "source": [
    "# Scale the images\n",
    "img_mean = X_train.mean(axis=0)\n",
    "img_std = X_train.std(axis=0)\n",
    "img_std = np.clip(img_std, 1e-15, 1 - 1e-15)\n",
    "\n",
    "X_train = (X_train-img_mean) / img_std\n",
    "X_test = (X_test-img_mean) / img_std\n",
    "\n",
    "y_train = to_categorical(y_train)\n",
    "y_test = to_categorical(y_test)"
   ]
  },
  {
   "cell_type": "code",
   "execution_count": 87,
   "id": "4428f556-e16f-473e-aa0e-7787096353b0",
   "metadata": {},
   "outputs": [
    {
     "data": {
      "text/plain": [
       "0.7870370370370371"
      ]
     },
     "execution_count": 87,
     "metadata": {},
     "output_type": "execute_result"
    }
   ],
   "source": [
    "model1 = MultinomialLogisticRegression(learning_rate=0.001, n_iterations=4000)\n",
    "model1.fit(X_train, y_train)\n",
    "y_pred1 = model1.predict(X_test)\n",
    "(y_pred1.argmax(axis=1) == y_test.argmax(axis=1)).sum()/len(y_test)"
   ]
  },
  {
   "cell_type": "code",
   "execution_count": null,
   "id": "b589f147-b394-49d7-bdf4-bbe14ba6a10b",
   "metadata": {},
   "outputs": [],
   "source": []
  },
  {
   "cell_type": "code",
   "execution_count": 88,
   "id": "8fec4e5f-112f-400d-88b3-678bc57ef6a3",
   "metadata": {},
   "outputs": [
    {
     "data": {
      "text/plain": [
       "0.7962962962962963"
      ]
     },
     "execution_count": 88,
     "metadata": {},
     "output_type": "execute_result"
    }
   ],
   "source": [
    "model2 = MultinomialLogisticRegression(learning_rate=0.001, n_iterations=4000, regularization='l2')\n",
    "model2.fit(X_train, y_train)\n",
    "y_pred2 = model2.predict(X_test)\n",
    "(y_pred2.argmax(axis=1) == y_test.argmax(axis=1)).sum()/len(y_test)"
   ]
  },
  {
   "cell_type": "code",
   "execution_count": null,
   "id": "8244338c-332c-42d2-9087-60d9238bf9ae",
   "metadata": {},
   "outputs": [],
   "source": []
  },
  {
   "cell_type": "code",
   "execution_count": 89,
   "id": "b640fac9-fe1d-4994-9193-270280f7d1ad",
   "metadata": {},
   "outputs": [
    {
     "data": {
      "text/plain": [
       "0.9074074074074074"
      ]
     },
     "execution_count": 89,
     "metadata": {},
     "output_type": "execute_result"
    }
   ],
   "source": [
    "model3 = OneVsRestLogisticRegression(learning_rate=0.001, n_iterations=4000, regularization='l2')\n",
    "model3.fit(X_train, y_train)\n",
    "y_pred3 = model3.predict(X_test)\n",
    "(y_pred3.argmax(axis=1) == y_test.argmax(axis=1)).sum()/len(y_test)"
   ]
  },
  {
   "cell_type": "code",
   "execution_count": null,
   "id": "71dfcec7-c873-46cc-a2a7-28c2a16cf5fe",
   "metadata": {},
   "outputs": [],
   "source": []
  }
 ],
 "metadata": {
  "kernelspec": {
   "display_name": "local-venv",
   "language": "python",
   "name": "local-venv"
  },
  "language_info": {
   "codemirror_mode": {
    "name": "ipython",
    "version": 3
   },
   "file_extension": ".py",
   "mimetype": "text/x-python",
   "name": "python",
   "nbconvert_exporter": "python",
   "pygments_lexer": "ipython3",
   "version": "3.9.5"
  }
 },
 "nbformat": 4,
 "nbformat_minor": 5
}
