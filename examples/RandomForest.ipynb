{
 "cells": [
  {
   "cell_type": "code",
   "execution_count": 11,
   "id": "3af86c68-97a9-44fb-b69d-b378f03a27c1",
   "metadata": {},
   "outputs": [
    {
     "name": "stdout",
     "output_type": "stream",
     "text": [
      "The autoreload extension is already loaded. To reload it, use:\n",
      "  %reload_ext autoreload\n"
     ]
    }
   ],
   "source": [
    "import os\n",
    "import sys\n",
    "module_path = os.path.abspath(os.path.join('../src'))\n",
    "if module_path not in sys.path:\n",
    "    sys.path.append(module_path)\n",
    "%load_ext autoreload\n",
    "%autoreload 2"
   ]
  },
  {
   "cell_type": "code",
   "execution_count": 12,
   "id": "6679e521-a8eb-4eee-8c60-d717a164b7b0",
   "metadata": {},
   "outputs": [],
   "source": [
    "import numpy as np\n",
    "from sklearn.datasets import load_breast_cancer\n",
    "from sklearn.model_selection import train_test_split\n",
    "from supervised_learning.random_forest import RandomForest"
   ]
  },
  {
   "cell_type": "code",
   "execution_count": 13,
   "id": "6e2c0883-b558-4e8a-8f95-ba603de851cb",
   "metadata": {},
   "outputs": [],
   "source": [
    "X, y = load_breast_cancer(return_X_y=True)"
   ]
  },
  {
   "cell_type": "code",
   "execution_count": 14,
   "id": "57eca2e0-d2d4-4f07-a807-cb71efce88fc",
   "metadata": {},
   "outputs": [],
   "source": [
    "X_train, X_test, y_train, y_test = train_test_split(X, y, train_size=0.7, random_state=2021)"
   ]
  },
  {
   "cell_type": "code",
   "execution_count": 15,
   "id": "04ee5a60-7cf1-4249-9e30-38bebd5290d8",
   "metadata": {},
   "outputs": [
    {
     "data": {
      "text/plain": [
       "0.9590643274853801"
      ]
     },
     "execution_count": 15,
     "metadata": {},
     "output_type": "execute_result"
    }
   ],
   "source": [
    "clf1 = RandomForest()\n",
    "clf1.fit(X_train, y_train)\n",
    "y_pred1 = clf1.predict(X_test)\n",
    "(y_pred1 == y_test).sum() / len(y_test)"
   ]
  },
  {
   "cell_type": "code",
   "execution_count": null,
   "id": "25b8bed0-d304-48c8-914d-2b7afad76ecf",
   "metadata": {},
   "outputs": [],
   "source": []
  },
  {
   "cell_type": "code",
   "execution_count": 16,
   "id": "33e0cabf-a1e4-409c-bc1a-d07cfc2846f1",
   "metadata": {},
   "outputs": [
    {
     "data": {
      "text/plain": [
       "0.9590643274853801"
      ]
     },
     "execution_count": 16,
     "metadata": {},
     "output_type": "execute_result"
    }
   ],
   "source": [
    "clf2 = RandomForest(n_trees=50, n_random_features=2)\n",
    "clf2.fit(X_train, y_train)\n",
    "y_pred2 = clf2.predict(X_test)\n",
    "(y_pred2 == y_test).sum() / len(y_test)"
   ]
  },
  {
   "cell_type": "code",
   "execution_count": null,
   "id": "bbab6e36-983d-4de6-9781-64302b85e78b",
   "metadata": {},
   "outputs": [],
   "source": []
  },
  {
   "cell_type": "code",
   "execution_count": 17,
   "id": "8d5e9aff-48a0-445a-8fed-8530f8f6f07c",
   "metadata": {},
   "outputs": [
    {
     "data": {
      "text/plain": [
       "0.9473684210526315"
      ]
     },
     "execution_count": 17,
     "metadata": {},
     "output_type": "execute_result"
    }
   ],
   "source": [
    "clf3 = RandomForest(criterion='gini')\n",
    "clf3.fit(X_train, y_train)\n",
    "y_pred3 = clf3.predict(X_test)\n",
    "(y_pred3 == y_test).sum() / len(y_test)"
   ]
  },
  {
   "cell_type": "code",
   "execution_count": null,
   "id": "fca4b23d-a6bf-4319-88fc-d06a73862b5c",
   "metadata": {},
   "outputs": [],
   "source": []
  },
  {
   "cell_type": "code",
   "execution_count": 18,
   "id": "5fb38a44-845a-477a-bcf0-095548659f91",
   "metadata": {},
   "outputs": [
    {
     "data": {
      "text/plain": [
       "0.9590643274853801"
      ]
     },
     "execution_count": 18,
     "metadata": {},
     "output_type": "execute_result"
    }
   ],
   "source": [
    "clf4 = RandomForest(n_trees=50, n_random_features=2, criterion='gini')\n",
    "clf4.fit(X_train, y_train)\n",
    "y_pred4 = clf4.predict(X_test)\n",
    "(y_pred4 == y_test).sum() / len(y_test)"
   ]
  },
  {
   "cell_type": "code",
   "execution_count": null,
   "id": "71ecf955-219c-48aa-99ff-69df92fd8107",
   "metadata": {},
   "outputs": [],
   "source": []
  }
 ],
 "metadata": {
  "kernelspec": {
   "display_name": "local-venv",
   "language": "python",
   "name": "local-venv"
  },
  "language_info": {
   "codemirror_mode": {
    "name": "ipython",
    "version": 3
   },
   "file_extension": ".py",
   "mimetype": "text/x-python",
   "name": "python",
   "nbconvert_exporter": "python",
   "pygments_lexer": "ipython3",
   "version": "3.9.5"
  }
 },
 "nbformat": 4,
 "nbformat_minor": 5
}
