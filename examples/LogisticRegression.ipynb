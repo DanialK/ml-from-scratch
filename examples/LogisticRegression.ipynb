{
 "cells": [
  {
   "cell_type": "code",
   "execution_count": 489,
   "id": "3af86c68-97a9-44fb-b69d-b378f03a27c1",
   "metadata": {},
   "outputs": [
    {
     "name": "stdout",
     "output_type": "stream",
     "text": [
      "The autoreload extension is already loaded. To reload it, use:\n",
      "  %reload_ext autoreload\n"
     ]
    }
   ],
   "source": [
    "import os\n",
    "import sys\n",
    "module_path = os.path.abspath(os.path.join('../src'))\n",
    "if module_path not in sys.path:\n",
    "    sys.path.append(module_path)\n",
    "%load_ext autoreload\n",
    "%autoreload 2"
   ]
  },
  {
   "cell_type": "code",
   "execution_count": 432,
   "id": "6679e521-a8eb-4eee-8c60-d717a164b7b0",
   "metadata": {},
   "outputs": [],
   "source": [
    "import numpy as np\n",
    "from sklearn.datasets import load_breast_cancer\n",
    "from sklearn.model_selection import train_test_split\n",
    "from supervised_learning.logistic_regression import LogisticRegression, LogisticRegressionV2"
   ]
  },
  {
   "cell_type": "code",
   "execution_count": 433,
   "id": "6e2c0883-b558-4e8a-8f95-ba603de851cb",
   "metadata": {},
   "outputs": [],
   "source": [
    "X, y = load_breast_cancer(return_X_y=True)"
   ]
  },
  {
   "cell_type": "code",
   "execution_count": 434,
   "id": "57eca2e0-d2d4-4f07-a807-cb71efce88fc",
   "metadata": {},
   "outputs": [],
   "source": [
    "X_train, X_test, y_train, y_test = train_test_split(X, y, train_size=0.7, random_state=2021)"
   ]
  },
  {
   "cell_type": "code",
   "execution_count": 438,
   "id": "4428f556-e16f-473e-aa0e-7787096353b0",
   "metadata": {},
   "outputs": [
    {
     "data": {
      "text/plain": [
       "0.9239766081871345"
      ]
     },
     "execution_count": 438,
     "metadata": {},
     "output_type": "execute_result"
    }
   ],
   "source": [
    "model1 = LogisticRegression(learning_rate=0.001, n_iterations=4000)\n",
    "model1.fit(X_train, y_train)\n",
    "y_pred1 = model1.predict(X_test)\n",
    "(y_pred1 == y_test).sum()/len(y_test)"
   ]
  },
  {
   "cell_type": "code",
   "execution_count": 446,
   "id": "5633c5bc-b404-4d87-a877-2a6ae9d0b138",
   "metadata": {},
   "outputs": [
    {
     "data": {
      "text/plain": [
       "0.9239766081871345"
      ]
     },
     "execution_count": 446,
     "metadata": {},
     "output_type": "execute_result"
    }
   ],
   "source": [
    "model2 = LogisticRegression(learning_rate=0.001, n_iterations=4000, regularization='l2', C=0.01)\n",
    "model2.fit(X_train, y_train)\n",
    "y_pred2 = model2.predict(X_test)\n",
    "(y_pred2 == y_test).sum()/len(y_test)"
   ]
  },
  {
   "cell_type": "code",
   "execution_count": 427,
   "id": "85da2977-5bcc-4906-b8ce-bead78d1a6b9",
   "metadata": {},
   "outputs": [],
   "source": [
    "from sklearn.linear_model import LogisticRegression"
   ]
  },
  {
   "cell_type": "code",
   "execution_count": 429,
   "id": "ae33b960-8202-40f6-8aef-4cc76fb0880a",
   "metadata": {},
   "outputs": [
    {
     "data": {
      "text/plain": [
       "LogisticRegression(C=0.01, max_iter=4000)"
      ]
     },
     "execution_count": 429,
     "metadata": {},
     "output_type": "execute_result"
    }
   ],
   "source": [
    "sk_model = LogisticRegression(max_iter=4000, C=0.01, penalty='l2')\n",
    "sk_model.fit(X_train, y_train)"
   ]
  },
  {
   "cell_type": "code",
   "execution_count": 430,
   "id": "77107f71-aaad-4461-8697-f6be35ef3f5b",
   "metadata": {},
   "outputs": [],
   "source": [
    "sk_y_pred = sk_model.predict(X_test)"
   ]
  },
  {
   "cell_type": "code",
   "execution_count": 431,
   "id": "7d3401a3-a4f3-48a7-915b-edfcae48f7e3",
   "metadata": {},
   "outputs": [
    {
     "data": {
      "text/plain": [
       "0.9415204678362573"
      ]
     },
     "execution_count": 431,
     "metadata": {},
     "output_type": "execute_result"
    }
   ],
   "source": [
    "(sk_y_pred == y_test).sum()/len(y_test)"
   ]
  },
  {
   "cell_type": "code",
   "execution_count": 519,
   "id": "d53fa4c1-385b-4e60-a703-111ea4c0a36e",
   "metadata": {},
   "outputs": [],
   "source": [
    "yy = np.repeat(y, 100000)"
   ]
  },
  {
   "cell_type": "code",
   "execution_count": 520,
   "id": "212b2d06-bc9c-4c8d-94ab-5add05255c83",
   "metadata": {},
   "outputs": [
    {
     "data": {
      "text/plain": [
       "(56900000,)"
      ]
     },
     "execution_count": 520,
     "metadata": {},
     "output_type": "execute_result"
    }
   ],
   "source": [
    "yy.shape"
   ]
  },
  {
   "cell_type": "code",
   "execution_count": 526,
   "id": "6e5b491c-13d8-4d03-bd92-7d8e94c0a0cb",
   "metadata": {},
   "outputs": [],
   "source": [
    "from supervised_learning.decision_tree import entropy1, entropy2, entropy3"
   ]
  },
  {
   "cell_type": "code",
   "execution_count": 522,
   "id": "b0473d5c-0d8d-4ee2-8af5-fc4fb465702f",
   "metadata": {},
   "outputs": [],
   "source": [
    "from line_profiler import LineProfiler"
   ]
  },
  {
   "cell_type": "code",
   "execution_count": 523,
   "id": "f3aea7ab-54fa-44e2-8504-1871092ac3f4",
   "metadata": {},
   "outputs": [
    {
     "name": "stdout",
     "output_type": "stream",
     "text": [
      "Timer unit: 1e-06 s\n",
      "\n",
      "Total time: 6.99678 s\n",
      "File: /Users/dkhosravibachehmir/dev/ml-from-scratch/src/supervised_learning/decision_tree.py\n",
      "Function: entropy1 at line 4\n",
      "\n",
      "Line #      Hits         Time  Per Hit   % Time  Line Contents\n",
      "==============================================================\n",
      "     4                                           def entropy1(y):\n",
      "     5         1          3.0      3.0      0.0      n_samples = y.shape[0]\n",
      "     6         1    6996684.0 6996684.0    100.0      counts = Counter(y)\n",
      "     7         1         76.0     76.0      0.0      px = np.array(list(counts.values())) / n_samples\n",
      "     8         1         14.0     14.0      0.0      return -px.dot(np.log(px))\n",
      "\n"
     ]
    }
   ],
   "source": [
    "lp1 = LineProfiler(entropy1)\n",
    "lp1.run(\"entropy1(yy)\")\n",
    "lp1.print_stats()"
   ]
  },
  {
   "cell_type": "code",
   "execution_count": 535,
   "id": "aef69f50-b7d7-4781-b52c-0d5b37651c3e",
   "metadata": {},
   "outputs": [
    {
     "name": "stdout",
     "output_type": "stream",
     "text": [
      "Timer unit: 1e-06 s\n",
      "\n",
      "Total time: 0.19604 s\n",
      "File: /Users/dkhosravibachehmir/dev/ml-from-scratch/src/supervised_learning/decision_tree.py\n",
      "Function: entropy2 at line 10\n",
      "\n",
      "Line #      Hits         Time  Per Hit   % Time  Line Contents\n",
      "==============================================================\n",
      "    10                                           def entropy2(y):\n",
      "    11         1     195944.0 195944.0    100.0      hist = np.bincount(y)\n",
      "    12         1         25.0     25.0      0.0      ps = hist / len(y)\n",
      "    13         1         71.0     71.0      0.0      return -np.sum([p * np.log2(p) for p in ps if p > 0])\n",
      "\n"
     ]
    }
   ],
   "source": [
    "lp2 = LineProfiler(entropy2)\n",
    "lp2.run(\"entropy2(yy)\")\n",
    "lp2.print_stats()"
   ]
  },
  {
   "cell_type": "code",
   "execution_count": 536,
   "id": "86b8c4f2-bf7d-4eb9-9adf-2136555ce0c3",
   "metadata": {},
   "outputs": [
    {
     "name": "stdout",
     "output_type": "stream",
     "text": [
      "Timer unit: 1e-06 s\n",
      "\n",
      "Total time: 0.187223 s\n",
      "File: /Users/dkhosravibachehmir/dev/ml-from-scratch/src/supervised_learning/decision_tree.py\n",
      "Function: entropy3 at line 15\n",
      "\n",
      "Line #      Hits         Time  Per Hit   % Time  Line Contents\n",
      "==============================================================\n",
      "    15                                           def entropy3(y):\n",
      "    16         1     187184.0 187184.0    100.0      hist = np.bincount(y)\n",
      "    17         1         25.0     25.0      0.0      ps = hist / len(y)\n",
      "    18         1         14.0     14.0      0.0      return -ps.dot(np.log(ps))\n",
      "\n"
     ]
    }
   ],
   "source": [
    "lp3 = LineProfiler(entropy3)\n",
    "lp3.run(\"entropy3(yy)\")\n",
    "lp3.print_stats()"
   ]
  },
  {
   "cell_type": "code",
   "execution_count": 538,
   "id": "4288eabe-bea4-4149-80d8-5225f978debc",
   "metadata": {},
   "outputs": [
    {
     "data": {
      "text/plain": [
       "array([4.33630900e+03, 6.39557000e+03, 2.78729200e+04, 1.65216100e+05,\n",
       "       3.30145200e+01, 2.85902100e+01, 1.64425707e+01, 9.18111400e+00,\n",
       "       6.21844000e+01, 2.24436600e+01, 1.01417400e+02, 4.35675700e+02,\n",
       "       7.14114700e+02, 7.54524800e+03, 2.56893700e+00, 7.65345400e+00,\n",
       "       9.28083460e+00, 3.51918200e+00, 7.34841900e+00, 1.29807030e+00,\n",
       "       4.77658900e+03, 8.39488000e+03, 3.10611200e+04, 1.99527100e+05,\n",
       "       4.46105400e+01, 6.52141000e+01, 5.93468670e+01, 2.65766310e+01,\n",
       "       9.64778000e+01, 2.83608200e+01])"
      ]
     },
     "execution_count": 538,
     "metadata": {},
     "output_type": "execute_result"
    }
   ],
   "source": [
    "X.T @ y"
   ]
  },
  {
   "cell_type": "code",
   "execution_count": 546,
   "id": "a4247cb2-b345-44f2-b531-bc986499cc16",
   "metadata": {},
   "outputs": [],
   "source": [
    "def matmul(A, B):\n",
    "    n = len(A)\n",
    "    m = len(B[0])\n",
    "    result = [ [0 for _ in range(m)] for _ in range(n) ]\n",
    "    for i, arow in enumerate(A):\n",
    "        for j, brow in enumerate(B): \n",
    "            result[i][j] += arow[j] * brow[i]\n",
    "    return result        "
   ]
  },
  {
   "cell_type": "code",
   "execution_count": null,
   "id": "ba2a61e1-02b1-4451-872f-f49837f48852",
   "metadata": {},
   "outputs": [],
   "source": []
  }
 ],
 "metadata": {
  "kernelspec": {
   "display_name": "local-venv",
   "language": "python",
   "name": "local-venv"
  },
  "language_info": {
   "codemirror_mode": {
    "name": "ipython",
    "version": 3
   },
   "file_extension": ".py",
   "mimetype": "text/x-python",
   "name": "python",
   "nbconvert_exporter": "python",
   "pygments_lexer": "ipython3",
   "version": "3.9.5"
  }
 },
 "nbformat": 4,
 "nbformat_minor": 5
}
