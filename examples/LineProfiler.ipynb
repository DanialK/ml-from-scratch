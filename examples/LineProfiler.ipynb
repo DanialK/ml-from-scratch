{
 "cells": [
  {
   "cell_type": "code",
   "execution_count": 1,
   "id": "3af86c68-97a9-44fb-b69d-b378f03a27c1",
   "metadata": {},
   "outputs": [],
   "source": [
    "import os\n",
    "import sys\n",
    "module_path = os.path.abspath(os.path.join('../src'))\n",
    "if module_path not in sys.path:\n",
    "    sys.path.append(module_path)\n",
    "%load_ext autoreload\n",
    "%autoreload 2"
   ]
  },
  {
   "cell_type": "code",
   "execution_count": null,
   "id": "6679e521-a8eb-4eee-8c60-d717a164b7b0",
   "metadata": {},
   "outputs": [],
   "source": [
    "import numpy as np\n",
    "from sklearn.datasets import load_breast_cancer"
   ]
  },
  {
   "cell_type": "code",
   "execution_count": null,
   "id": "6e2c0883-b558-4e8a-8f95-ba603de851cb",
   "metadata": {},
   "outputs": [],
   "source": [
    "_, y = load_breast_cancer(return_X_y=True)"
   ]
  },
  {
   "cell_type": "code",
   "execution_count": 15,
   "id": "7b815c34-501d-449f-be55-efec7fdbec83",
   "metadata": {},
   "outputs": [],
   "source": [
    "yy = np.repeat(y, 100000)"
   ]
  },
  {
   "cell_type": "code",
   "execution_count": 25,
   "id": "6e5b491c-13d8-4d03-bd92-7d8e94c0a0cb",
   "metadata": {},
   "outputs": [],
   "source": [
    "from misc.line_profiler import entropy1, entropy2, entropy3"
   ]
  },
  {
   "cell_type": "code",
   "execution_count": 26,
   "id": "b0473d5c-0d8d-4ee2-8af5-fc4fb465702f",
   "metadata": {},
   "outputs": [],
   "source": [
    "from line_profiler import LineProfiler"
   ]
  },
  {
   "cell_type": "code",
   "execution_count": 27,
   "id": "f3aea7ab-54fa-44e2-8504-1871092ac3f4",
   "metadata": {},
   "outputs": [
    {
     "name": "stdout",
     "output_type": "stream",
     "text": [
      "Timer unit: 1e-06 s\n",
      "\n",
      "Total time: 7.19145 s\n",
      "File: /Users/dkhosravibachehmir/dev/ml-from-scratch/src/misc/line_profiler.py\n",
      "Function: entropy1 at line 5\n",
      "\n",
      "Line #      Hits         Time  Per Hit   % Time  Line Contents\n",
      "==============================================================\n",
      "     5                                           def entropy1(y):\n",
      "     6         1          4.0      4.0      0.0      n_samples = y.shape[0]\n",
      "     7         1    7191407.0 7191407.0    100.0      counts = Counter(y)\n",
      "     8         1         32.0     32.0      0.0      px = np.array(list(counts.values())) / n_samples\n",
      "     9         1         10.0     10.0      0.0      return -px.dot(np.log(px))\n",
      "\n"
     ]
    }
   ],
   "source": [
    "lp1 = LineProfiler(entropy1)\n",
    "lp1.run(\"entropy1(yy)\")\n",
    "lp1.print_stats()"
   ]
  },
  {
   "cell_type": "code",
   "execution_count": 30,
   "id": "aef69f50-b7d7-4781-b52c-0d5b37651c3e",
   "metadata": {},
   "outputs": [
    {
     "name": "stdout",
     "output_type": "stream",
     "text": [
      "Timer unit: 1e-06 s\n",
      "\n",
      "Total time: 0.182753 s\n",
      "File: /Users/dkhosravibachehmir/dev/ml-from-scratch/src/misc/line_profiler.py\n",
      "Function: entropy2 at line 12\n",
      "\n",
      "Line #      Hits         Time  Per Hit   % Time  Line Contents\n",
      "==============================================================\n",
      "    12                                           def entropy2(y):\n",
      "    13         1     182663.0 182663.0    100.0      hist = np.bincount(y)\n",
      "    14         1         24.0     24.0      0.0      ps = hist / len(y)\n",
      "    15         1         66.0     66.0      0.0      return -np.sum([p * np.log2(p) for p in ps])\n",
      "\n"
     ]
    }
   ],
   "source": [
    "lp2 = LineProfiler(entropy2)\n",
    "lp2.run(\"entropy2(yy)\")\n",
    "lp2.print_stats()"
   ]
  },
  {
   "cell_type": "code",
   "execution_count": 31,
   "id": "86b8c4f2-bf7d-4eb9-9adf-2136555ce0c3",
   "metadata": {},
   "outputs": [
    {
     "name": "stdout",
     "output_type": "stream",
     "text": [
      "Timer unit: 1e-06 s\n",
      "\n",
      "Total time: 0.177596 s\n",
      "File: /Users/dkhosravibachehmir/dev/ml-from-scratch/src/misc/line_profiler.py\n",
      "Function: entropy3 at line 18\n",
      "\n",
      "Line #      Hits         Time  Per Hit   % Time  Line Contents\n",
      "==============================================================\n",
      "    18                                           def entropy3(y):\n",
      "    19         1     177559.0 177559.0    100.0      hist = np.bincount(y)\n",
      "    20         1         24.0     24.0      0.0      ps = hist / len(y)\n",
      "    21         1         13.0     13.0      0.0      return -ps.dot(np.log2(ps))\n",
      "\n"
     ]
    }
   ],
   "source": [
    "lp3 = LineProfiler(entropy3)\n",
    "lp3.run(\"entropy3(yy)\")\n",
    "lp3.print_stats()"
   ]
  },
  {
   "cell_type": "code",
   "execution_count": null,
   "id": "4288eabe-bea4-4149-80d8-5225f978debc",
   "metadata": {},
   "outputs": [],
   "source": []
  },
  {
   "cell_type": "code",
   "execution_count": null,
   "id": "a4247cb2-b345-44f2-b531-bc986499cc16",
   "metadata": {},
   "outputs": [],
   "source": []
  }
 ],
 "metadata": {
  "kernelspec": {
   "display_name": "local-venv",
   "language": "python",
   "name": "local-venv"
  },
  "language_info": {
   "codemirror_mode": {
    "name": "ipython",
    "version": 3
   },
   "file_extension": ".py",
   "mimetype": "text/x-python",
   "name": "python",
   "nbconvert_exporter": "python",
   "pygments_lexer": "ipython3",
   "version": "3.9.5"
  }
 },
 "nbformat": 4,
 "nbformat_minor": 5
}
